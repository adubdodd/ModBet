{
 "cells": [
  {
   "cell_type": "code",
   "execution_count": 18,
   "metadata": {},
   "outputs": [],
   "source": [
    "import pandas as pd\n",
    "from datetime import datetime\n",
    "from selenium import webdriver\n",
    "from selenium.webdriver.chrome.options import Options\n",
    "from bs4 import BeautifulSoup"
   ]
  },
  {
   "cell_type": "code",
   "execution_count": 5,
   "metadata": {},
   "outputs": [],
   "source": [
    "def draftkings_parse(input_dict, driver, key):\n",
    "    outcomes = [x.text for x in driver.find_elements_by_class_name(input_dict['outcomes_class'])]\n",
    "    soup = BeautifulSoup(driver.page_source, 'html.parser')\n",
    "    odds = [x.text for x in soup.findAll('span',{'class', input_dict['odds_class']})]\n",
    "    # odds = [x.text for x in driver.find_elements_by_class_name(input_dict['odds_class'])]\n",
    "    return list(zip(outcomes[::3], outcomes[2::3], odds[::3], odds[1::3], odds[2::3], [key] * len(outcomes[::3]), [datetime.now()] * len(outcomes[::3])))"
   ]
  },
  {
   "cell_type": "code",
   "execution_count": 6,
   "metadata": {},
   "outputs": [],
   "source": [
    "prem_dir = {'draftkings':{'url':'https://sportsbook.draftkings.com/leagues/soccer/53591936',\n",
    "                          'parser': draftkings_parse,\n",
    "                          'args':{'outcomes_class':'sportsbook-outcome-cell__label',\n",
    "                                  'odds_class':'sportsbook-odds american default-color'}}\n",
    "           }\n",
    "           \n",
    "output_cols = ['home_team','away_team', 'home_odds','tie_odds', 'away_odds', 'source', 'datetime']"
   ]
  },
  {
   "cell_type": "code",
   "execution_count": 14,
   "metadata": {},
   "outputs": [],
   "source": [
    "options = Options()\n",
    "options.add_argument('--headless')\n",
    "options.add_argument('--window-size=1920,1200')\n",
    "DRIVER_PATH = 'driver/mac/chromedriver'"
   ]
  },
  {
   "cell_type": "code",
   "execution_count": 19,
   "metadata": {},
   "outputs": [],
   "source": [
    "dn = []\n",
    "for key in prem_dir:\n",
    "    driver = webdriver.Chrome(options=options, executable_path=DRIVER_PATH)\n",
    "    driver.get(prem_dir[key]['url'])\n",
    "    driver.implicitly_wait(3)\n",
    "    \n",
    "    data = pd.DataFrame(prem_dir[key]['parser'](prem_dir[key]['args'],driver, key),columns=output_cols)\n",
    "    dn.append(data)\n",
    "    driver.quit()\n",
    "df = pd.concat(dn, axis=0)"
   ]
  },
  {
   "cell_type": "code",
   "execution_count": 33,
   "metadata": {},
   "outputs": [
    {
     "data": {
      "text/plain": [
       "{'home_team': 'Brighton',\n",
       " 'away_team': 'West Bromwich',\n",
       " 'home_odds': '-143',\n",
       " 'tie_odds': '+300',\n",
       " 'away_odds': '+370',\n",
       " 'source': 'draftkings',\n",
       " 'datetime': Timestamp('2020-10-26 00:23:58.195356')}"
      ]
     },
     "execution_count": 33,
     "metadata": {},
     "output_type": "execute_result"
    }
   ],
   "source": [
    "df.head().to_dict(orient='records')[0]"
   ]
  },
  {
   "cell_type": "code",
   "execution_count": 25,
   "metadata": {},
   "outputs": [],
   "source": [
    "from flask_restful import Resource, Api\n"
   ]
  },
  {
   "cell_type": "code",
   "execution_count": null,
   "metadata": {},
   "outputs": [],
   "source": []
  }
 ],
 "metadata": {
  "kernelspec": {
   "display_name": "Python 3",
   "language": "python",
   "name": "python3"
  },
  "language_info": {
   "codemirror_mode": {
    "name": "ipython",
    "version": 3
   },
   "file_extension": ".py",
   "mimetype": "text/x-python",
   "name": "python",
   "nbconvert_exporter": "python",
   "pygments_lexer": "ipython3",
   "version": "3.7.6"
  }
 },
 "nbformat": 4,
 "nbformat_minor": 4
}
