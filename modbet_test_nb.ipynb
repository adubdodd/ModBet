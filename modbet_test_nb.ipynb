{
 "cells": [
  {
   "cell_type": "code",
   "execution_count": 1,
   "metadata": {},
   "outputs": [],
   "source": [
    "import pandas as pd\n",
    "from selenium import webdriver\n",
    "from selenium.webdriver.chrome.options import Options\n",
    "from bs4 import BeautifulSoup"
   ]
  },
  {
   "cell_type": "code",
   "execution_count": 2,
   "metadata": {},
   "outputs": [],
   "source": [
    "def draftkings_parse(input_dict, driver, key):\n",
    "    outcomes = [x.text for x in driver.find_elements_by_class_name(input_dict['outcomes_class'])]\n",
    "    soup = BeautifulSoup(driver.page_source, 'html.parser')\n",
    "    odds = [x.text for x in soup.findAll('span',{'class', input_dict['odds_class']})]\n",
    "    # odds = [x.text for x in driver.find_elements_by_class_name(input_dict['odds_class'])]\n",
    "    return list(zip(outcomes[::3], outcomes[2::3], odds[::3], odds[1::3], odds[2::3], [key] * len(outcomes[::3]), [pd.datetime.now()] * len(outcomes[::3])))\n",
    "\n",
    "def fanduel_parse(input_dict, driver, key):\n",
    "    outcomes = [x.text for x in driver.find_elements_by_class_name(input_dict['outcomes_class'])]\n",
    "    odds = [x.text for x in driver.find_elements_by_class_name(input_dict['odds_class'])]\n",
    "    return list(zip(outcomes[::2], outcomes[1::2], odds[::3], odds[1::3], odds[2::3], [key] * len(outcomes[::3]), [pd.datetime.now()] * len(outcomes[::3])))\n",
    "\n",
    "def bovada_parse(input_dict, driver, key):\n",
    "    outcomes = [x.text for x in driver.find_elements_by_class_name(input_dict['outcomes_class'])]\n",
    "    odds = [x.text for x in driver.find_elements_by_class_name(input_dict['odds_class'])]\n",
    "    return list(zip(outcomes[::2], outcomes[1::2], odds[2::7], odds[3::7], odds[4::7], [key] * len(outcomes[::3]), [pd.datetime.now()] * len(outcomes[::3])))"
   ]
  },
  {
   "cell_type": "code",
   "execution_count": 3,
   "metadata": {},
   "outputs": [],
   "source": [
    "prem_dir = {'draftkings':{'url':'https://sportsbook.draftkings.com/leagues/soccer/53591936',\n",
    "                          'parser': draftkings_parse,\n",
    "                          'args':{'outcomes_class':'sportsbook-outcome-cell__label',\n",
    "                                  'odds_class':'sportsbook-odds american default-color'}},\n",
    "            'fanduel':{'url':'https://sportsbook.fanduel.com/sports/navigation/730.1/7567.1',\n",
    "                       'parser': fanduel_parse,\n",
    "                       'args':{'outcomes_class':'name',\n",
    "                               'odds_class':'selectionprice'}},\n",
    "            'bovada':{'url':'https://www.bovada.lv/sports/soccer/england-premier-league',\n",
    "                      'parser': bovada_parse,\n",
    "                      'args':{'outcomes_class':'name',\n",
    "                              'odds_class':'bet-price'}}\n",
    "           }\n",
    "           "
   ]
  },
  {
   "cell_type": "code",
   "execution_count": 5,
   "metadata": {},
   "outputs": [
    {
     "name": "stdout",
     "output_type": "stream",
     "text": [
      "           home_team         away_team home_odds tie_odds away_odds  \\\n",
      "0     Leicester City          Brighton      -148     +285      +410   \n",
      "1          Tottenham          West Ham      -155     +310      +410   \n",
      "2  Manchester United  Sheffield United      -240     +335      +750   \n",
      "3          Newcastle       Aston Villa      +130     +230      +220   \n",
      "4             Wolves       Bournemouth      -182     +320      +510   \n",
      "\n",
      "       source                   datetime  \n",
      "0  draftkings 2020-06-22 17:51:08.995727  \n",
      "1  draftkings 2020-06-22 17:51:08.995727  \n",
      "2  draftkings 2020-06-22 17:51:08.995727  \n",
      "3  draftkings 2020-06-22 17:51:08.995727  \n",
      "4  draftkings 2020-06-22 17:51:08.995727  \n",
      "   home_team    away_team home_odds tie_odds away_odds   source  \\\n",
      "0  Leicester     Brighton      -145     +270      +440  fanduel   \n",
      "1  Tottenham     West Ham      -155     +290      +420  fanduel   \n",
      "2  Newcastle  Aston Villa      +135     +230      +210  fanduel   \n",
      "3     Wolves  Bournemouth      -180     +310      +500  fanduel   \n",
      "4    Norwich      Everton      +300     +260      -110  fanduel   \n",
      "\n",
      "                    datetime  \n",
      "0 2020-06-22 17:51:14.448336  \n",
      "1 2020-06-22 17:51:14.448336  \n",
      "2 2020-06-22 17:51:14.448336  \n",
      "3 2020-06-22 17:51:14.448336  \n",
      "4 2020-06-22 17:51:14.448336  \n",
      "           home_team         away_team home_odds tie_odds away_odds  source  \\\n",
      "0                             Brighton      -145     +400      +280  bovada   \n",
      "1  Tottenham Hotspur          West Ham      -150     +400      +300  bovada   \n",
      "2  Manchester United  Sheffield United      -240     +750      +335  bovada   \n",
      "3   Newcastle United       Aston Villa      +130     +215      +230  bovada   \n",
      "4       Norwich City           Everton      +280     -110      +265  bovada   \n",
      "\n",
      "                    datetime  \n",
      "0 2020-06-22 17:51:22.135202  \n",
      "1 2020-06-22 17:51:22.135202  \n",
      "2 2020-06-22 17:51:22.135202  \n",
      "3 2020-06-22 17:51:22.135202  \n",
      "4 2020-06-22 17:51:22.135202  \n"
     ]
    }
   ],
   "source": [
    "options = Options()\n",
    "options.headless = True\n",
    "options.add_argument(\"--window-size=1920,1200\")\n",
    "\n",
    "DRIVER_PATH = 'driver/chromedriver'\n",
    "column_names = ['home_team','away_team', 'home_odds','tie_odds', 'away_odds', 'source', 'datetime']\n",
    "\n",
    "for key in prem_dir:    \n",
    "    driver = webdriver.Chrome(options=options, executable_path=DRIVER_PATH)\n",
    "    driver.get(prem_dir[key]['url'])\n",
    "    driver.implicitly_wait(3)\n",
    "\n",
    "    data = prem_dir[key]['parser'](prem_dir[key]['args'],driver,key)\n",
    "    print(pd.DataFrame(data, columns=column_names).head())\n",
    "    \n",
    "    driver.quit()"
   ]
  }
 ],
 "metadata": {
  "kernelspec": {
   "display_name": "Python 3",
   "language": "python",
   "name": "python3"
  },
  "language_info": {
   "codemirror_mode": {
    "name": "ipython",
    "version": 3
   },
   "file_extension": ".py",
   "mimetype": "text/x-python",
   "name": "python",
   "nbconvert_exporter": "python",
   "pygments_lexer": "ipython3",
   "version": "3.7.3"
  }
 },
 "nbformat": 4,
 "nbformat_minor": 2
}
