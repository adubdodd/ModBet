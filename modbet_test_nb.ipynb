{
 "cells": [
  {
   "cell_type": "markdown",
   "metadata": {},
   "source": [
    "# Moptibet\n",
    "Moptibet gathers betting odd’s data from multiple sources, consolidate said data, and highlight betting opportunities, through both arbitrage due to inconsistent odds in the market and using predictive analytics to guess winners.\n",
    "\n",
    "### Imports"
   ]
  },
  {
   "cell_type": "code",
   "execution_count": 1,
   "metadata": {},
   "outputs": [],
   "source": [
    "import pandas as pd\n",
    "import sqlalchemy as db\n",
    "import sys\n",
    "import configparser"
   ]
  },
  {
   "cell_type": "code",
   "execution_count": 2,
   "metadata": {},
   "outputs": [],
   "source": [
    "from datetime import datetime\n",
    "from selenium import webdriver\n",
    "from selenium.webdriver.chrome.options import Options\n",
    "from bs4 import BeautifulSoup"
   ]
  },
  {
   "cell_type": "markdown",
   "metadata": {},
   "source": [
    "### Web Scraping\n",
    "\n",
    "#### Site Specific HTML Parsers"
   ]
  },
  {
   "cell_type": "code",
   "execution_count": 4,
   "metadata": {},
   "outputs": [],
   "source": [
    "def draftkings_parse(input_dict, driver, key):\n",
    "    outcomes = [x.text for x in driver.find_elements_by_class_name(input_dict['outcomes_class'])]\n",
    "    soup = BeautifulSoup(driver.page_source, 'html.parser')\n",
    "    odds = [x.text for x in soup.findAll('span',{'class', input_dict['odds_class']})]\n",
    "    # odds = [x.text for x in driver.find_elements_by_class_name(input_dict['odds_class'])]\n",
    "    return list(zip(outcomes[::3], outcomes[2::3], odds[::3], odds[1::3], odds[2::3], [key] * len(outcomes[::3]), [datetime.now()] * len(outcomes[::3])))\n",
    "\n",
    "def fanduel_parse(input_dict, driver, key):\n",
    "    outcomes = [x.text for x in driver.find_elements_by_class_name(input_dict['outcomes_class'])]\n",
    "    odds = [x.text for x in driver.find_elements_by_class_name(input_dict['odds_class'])]\n",
    "    return list(zip(outcomes[::2], outcomes[1::2], odds[::3], odds[1::3], odds[2::3], [key] * len(outcomes[::3]), [datetime.now()] * len(outcomes[::3])))\n",
    "\n",
    "def bovada_parse(input_dict, driver, key):\n",
    "    outcomes = [x.text for x in driver.find_elements_by_class_name(input_dict['outcomes_class'])]\n",
    "    odds = [x.text for x in driver.find_elements_by_class_name(input_dict['odds_class'])]\n",
    "    return list(zip(outcomes[::2], outcomes[1::2], odds[2::7], odds[4::7], odds[3::7], [key] * len(outcomes[::3]), [datetime.now()] * len(outcomes[::3])))"
   ]
  },
  {
   "cell_type": "markdown",
   "metadata": {},
   "source": [
    "#### Site Specific Scraper Mapping"
   ]
  },
  {
   "cell_type": "code",
   "execution_count": 5,
   "metadata": {},
   "outputs": [],
   "source": [
    "prem_dir = {'draftkings':{'url':'https://sportsbook.draftkings.com/leagues/soccer/53591936',\n",
    "                          'parser': draftkings_parse,\n",
    "                          'args':{'outcomes_class':'sportsbook-outcome-cell__label',\n",
    "                                  'odds_class':'sportsbook-odds american default-color'}},\n",
    "            'fanduel':{'url':'https://sportsbook.fanduel.com/sports/navigation/730.1/7567.1',\n",
    "                       'parser': fanduel_parse,\n",
    "                       'args':{'outcomes_class':'name',\n",
    "                               'odds_class':'selectionprice'}},\n",
    "            'bovada':{'url':'https://www.bovada.lv/sports/soccer/england-premier-league',\n",
    "                      'parser': bovada_parse,\n",
    "                      'args':{'outcomes_class':'name',\n",
    "                              'odds_class':'bet-price'}}\n",
    "           }\n",
    "           \n",
    "output_cols = ['home_team','away_team', 'home_odds','tie_odds', 'away_odds', 'source', 'datetime']"
   ]
  },
  {
   "cell_type": "markdown",
   "metadata": {},
   "source": [
    "#### Setting Scraper settings and appropriate driver"
   ]
  },
  {
   "cell_type": "code",
   "execution_count": 6,
   "metadata": {},
   "outputs": [
    {
     "data": {
      "text/plain": [
       "'linux'"
      ]
     },
     "execution_count": 6,
     "metadata": {},
     "output_type": "execute_result"
    }
   ],
   "source": [
    "sys.platform"
   ]
  },
  {
   "cell_type": "code",
   "execution_count": 7,
   "metadata": {},
   "outputs": [],
   "source": [
    "options = Options()\n",
    "options.headless = True\n",
    "options.add_argument(\"--window-size=1920,1200\")\n",
    "\n",
    "if sys.platform == 'darwin':\n",
    "    DRIVER_PATH = 'driver/mac/chromedriver'\n",
    "elif sys.platform == 'linux' or sys.platform == 'linux2':\n",
    "    DRIVER_PATH = 'driver/linux/chromedriver'\n",
    "elif sys.platform == 'win32':\n",
    "    DRIVER_PATH = 'driver/windows/chromedriver'"
   ]
  },
  {
   "cell_type": "markdown",
   "metadata": {},
   "source": [
    "#### Iterate over sites, persisting outcomes, odds"
   ]
  },
  {
   "cell_type": "code",
   "execution_count": 8,
   "metadata": {},
   "outputs": [
    {
     "name": "stdout",
     "output_type": "stream",
     "text": [
      "        home_team       away_team home_odds tie_odds away_odds      source  \\\n",
      "0          Fulham         Arsenal      +450     +340      -177  draftkings   \n",
      "1  Crystal Palace     Southampton      +185     +215      +160  draftkings   \n",
      "2        West Ham       Newcastle      +120     +225      +245  draftkings   \n",
      "3       Liverpool    Leeds United      -375     +510      +900  draftkings   \n",
      "4   West Bromwich  Leicester City      +280     +255      -103  draftkings   \n",
      "\n",
      "                    datetime  \n",
      "0 2020-09-03 20:03:49.921738  \n",
      "1 2020-09-03 20:03:49.921738  \n",
      "2 2020-09-03 20:03:49.921738  \n",
      "3 2020-09-03 20:03:49.921738  \n",
      "4 2020-09-03 20:03:49.921738  \n",
      "        home_team    away_team home_odds tie_odds away_odds   source  \\\n",
      "0          Fulham      Arsenal      +460     +320      -175  fanduel   \n",
      "1        West Ham    Newcastle      +110     +240      +250  fanduel   \n",
      "2  Crystal Palace  Southampton      +190     +220      +155  fanduel   \n",
      "3       Liverpool        Leeds      -410     +550      +900  fanduel   \n",
      "4       West Brom    Leicester      +290     +250      -110  fanduel   \n",
      "\n",
      "                    datetime  \n",
      "0 2020-09-03 20:03:55.316333  \n",
      "1 2020-09-03 20:03:55.316333  \n",
      "2 2020-09-03 20:03:55.316333  \n",
      "3 2020-09-03 20:03:55.316333  \n",
      "4 2020-09-03 20:03:55.316333  \n",
      "        home_team         away_team home_odds tie_odds away_odds  source  \\\n",
      "0                           Arsenal      +450     +320      -180  bovada   \n",
      "1  Crystal Palace       Southampton      +190     +220      +150  bovada   \n",
      "2        West Ham  Newcastle United      +110     +245      +240  bovada   \n",
      "3       Liverpool      Leeds United      -400     +525      +850  bovada   \n",
      "4       West Brom    Leicester City      +270     +260      -105  bovada   \n",
      "\n",
      "                    datetime  \n",
      "0 2020-09-03 20:04:01.118732  \n",
      "1 2020-09-03 20:04:01.118732  \n",
      "2 2020-09-03 20:04:01.118732  \n",
      "3 2020-09-03 20:04:01.118732  \n",
      "4 2020-09-03 20:04:01.118732  \n"
     ]
    }
   ],
   "source": [
    "class Web_Scraper:\n",
    "    def __init__(self, map_dir, output_cols, scr_options=None):\n",
    "        self.map_dir = map_dir\n",
    "        self.output_cols = output_cols\n",
    "        self.scr_options = scr_options\n",
    "        \n",
    "    def set_options(self):\n",
    "        if self.scr_options is not None:\n",
    "            options = Options()\n",
    "            options.headless = self.scr_options['headless']\n",
    "            options.add_argument(''.join('--window-size=',self.scr_options['width'],',',self.scr_options['height']))\n",
    "        else:\n",
    "            options = Options()\n",
    "            options.headless = True\n",
    "            options.add_argument('--window-size=1920,1200')\n",
    "    \n",
    "    def os_driver_path(self):\n",
    "        if sys.platform == 'darwin':\n",
    "            DRIVER_PATH = 'driver/mac/chromedriver'\n",
    "        elif sys.platform == 'linux' or sys.platform == 'linux2':\n",
    "            DRIVER_PATH = 'driver/linux/chromedriver'\n",
    "        elif sys.platform == 'win32':\n",
    "            DRIVER_PATH = 'driver/windows/chromedriver'\n",
    "        return DRIVER_PATH\n",
    "    \n",
    "    def go(self):\n",
    "        dn = []\n",
    "        for key in self.map_dir:\n",
    "            driver = webdriver.Chrome(options=self.set_options(), executable_path=self.os_driver_path())\n",
    "            driver.get(self.map_dir[key]['url'])\n",
    "            driver.implicitly_wait(3)\n",
    "            \n",
    "            data = pd.DataFrame(prem_dir[key]['parser'](prem_dir[key]['args'],driver, key),columns=self.output_cols)\n",
    "            dn.append(data)\n",
    "            driver.quit()\n",
    "        return pd.concat(dn, axis=0)\n",
    "   \n",
    "    ##########\n",
    "    #\n",
    "    # N E X T\n",
    "    #\n",
    "    ##########\n",
    "\n",
    "    def update_db(self):\n",
    "        pass"
   ]
  },
  {
   "cell_type": "code",
   "execution_count": null,
   "metadata": {},
   "outputs": [],
   "source": [
    "Prem_Web_Scraper = Web_Scraper(prem_dir, output_cols)"
   ]
  },
  {
   "cell_type": "code",
   "execution_count": null,
   "metadata": {},
   "outputs": [],
   "source": [
    "test = Prem_Web_Scraper.go()"
   ]
  },
  {
   "cell_type": "code",
   "execution_count": null,
   "metadata": {},
   "outputs": [],
   "source": [
    "test.to_sql()"
   ]
  },
  {
   "cell_type": "markdown",
   "metadata": {},
   "source": [
    "#### Grab Probabilities and Fixtures from 538 "
   ]
  },
  {
   "cell_type": "code",
   "execution_count": 12,
   "metadata": {},
   "outputs": [
    {
     "data": {
      "text/html": [
       "<div>\n",
       "<style scoped>\n",
       "    .dataframe tbody tr th:only-of-type {\n",
       "        vertical-align: middle;\n",
       "    }\n",
       "\n",
       "    .dataframe tbody tr th {\n",
       "        vertical-align: top;\n",
       "    }\n",
       "\n",
       "    .dataframe thead th {\n",
       "        text-align: right;\n",
       "    }\n",
       "</style>\n",
       "<table border=\"1\" class=\"dataframe\">\n",
       "  <thead>\n",
       "    <tr style=\"text-align: right;\">\n",
       "      <th></th>\n",
       "      <th>proj_score1</th>\n",
       "      <th>proj_score2</th>\n",
       "    </tr>\n",
       "  </thead>\n",
       "  <tbody>\n",
       "    <tr>\n",
       "      <th>5705</th>\n",
       "      <td>1.50</td>\n",
       "      <td>1.12</td>\n",
       "    </tr>\n",
       "    <tr>\n",
       "      <th>5709</th>\n",
       "      <td>1.61</td>\n",
       "      <td>0.71</td>\n",
       "    </tr>\n",
       "    <tr>\n",
       "      <th>5723</th>\n",
       "      <td>0.65</td>\n",
       "      <td>2.00</td>\n",
       "    </tr>\n",
       "    <tr>\n",
       "      <th>5724</th>\n",
       "      <td>1.50</td>\n",
       "      <td>1.13</td>\n",
       "    </tr>\n",
       "  </tbody>\n",
       "</table>\n",
       "</div>"
      ],
      "text/plain": [
       "      proj_score1  proj_score2\n",
       "5705         1.50         1.12\n",
       "5709         1.61         0.71\n",
       "5723         0.65         2.00\n",
       "5724         1.50         1.13"
      ]
     },
     "execution_count": 12,
     "metadata": {},
     "output_type": "execute_result"
    }
   ],
   "source": [
    "matches_538 = pd.read_csv('https://projects.fivethirtyeight.com/soccer-api/club/spi_matches_latest.csv')\n",
    "prem_matches = matches_538[matches_538['league'] == 'Barclays Premier League']\n",
    "\n",
    "columns = ['date', 'league', 'team1', 'team2', 'spi1',\n",
    "       'spi2', 'prob1', 'prob2', 'probtie', 'proj_score1', 'proj_score2',\n",
    "       'importance1', 'importance2', 'score1', 'score2', 'xg1', 'xg2', 'nsxg1',\n",
    "       'nsxg2', 'adj_score1', 'adj_score2']\n",
    "\n",
    "prem_matches[prem_matches['date']=='2020-07-16'][['proj_score1', 'proj_score2']]"
   ]
  },
  {
   "cell_type": "markdown",
   "metadata": {},
   "source": [
    "#### Connect to Remote PostgreSQL server"
   ]
  },
  {
   "cell_type": "code",
   "execution_count": 4,
   "metadata": {},
   "outputs": [],
   "source": [
    "config = configparser.ConfigParser()\n",
    "config.read('credentials.txt')\n",
    "remote = config['remote']\n",
    "DB_URI = ''.join(['postgres+psycopg2://',remote['user'],':',remote['password'],'@',remote['server'],'/',remote['database']])\n",
    "\n",
    "conn = db.create_engine(DB_URI).connect()"
   ]
  },
  {
   "cell_type": "code",
   "execution_count": 5,
   "metadata": {},
   "outputs": [
    {
     "data": {
      "text/html": [
       "<div>\n",
       "<style scoped>\n",
       "    .dataframe tbody tr th:only-of-type {\n",
       "        vertical-align: middle;\n",
       "    }\n",
       "\n",
       "    .dataframe tbody tr th {\n",
       "        vertical-align: top;\n",
       "    }\n",
       "\n",
       "    .dataframe thead th {\n",
       "        text-align: right;\n",
       "    }\n",
       "</style>\n",
       "<table border=\"1\" class=\"dataframe\">\n",
       "  <thead>\n",
       "    <tr style=\"text-align: right;\">\n",
       "      <th></th>\n",
       "      <th>coltest</th>\n",
       "    </tr>\n",
       "  </thead>\n",
       "  <tbody>\n",
       "    <tr>\n",
       "      <th>0</th>\n",
       "      <td>Hello World</td>\n",
       "    </tr>\n",
       "  </tbody>\n",
       "</table>\n",
       "</div>"
      ],
      "text/plain": [
       "       coltest\n",
       "0  Hello World"
      ]
     },
     "execution_count": 5,
     "metadata": {},
     "output_type": "execute_result"
    }
   ],
   "source": [
    "results = pd.read_sql('SELECT * FROM test.test;', conn)\n",
    "results.head()"
   ]
  },
  {
   "cell_type": "code",
   "execution_count": 11,
   "metadata": {},
   "outputs": [],
   "source": [
    "conn.close()"
   ]
  }
 ],
 "metadata": {
  "kernelspec": {
   "display_name": "Python 3",
   "language": "python",
   "name": "python3"
  },
  "language_info": {
   "codemirror_mode": {
    "name": "ipython",
    "version": 3
   },
   "file_extension": ".py",
   "mimetype": "text/x-python",
   "name": "python",
   "nbconvert_exporter": "python",
   "pygments_lexer": "ipython3",
   "version": "3.7.2"
  }
 },
 "nbformat": 4,
 "nbformat_minor": 4
}
